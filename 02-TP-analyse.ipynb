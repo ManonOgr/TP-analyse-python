{
 "cells": [
  {
   "cell_type": "markdown",
   "metadata": {},
   "source": [
    "02-TP-Analyse / Etudes de données en python / Manon Oger"
   ]
  },
  {
   "cell_type": "markdown",
   "metadata": {},
   "source": [
    "Partie n°1 : Population"
   ]
  },
  {
   "cell_type": "markdown",
   "metadata": {},
   "source": [
    "Données : "
   ]
  },
  {
   "cell_type": "code",
   "execution_count": 1,
   "metadata": {},
   "outputs": [],
   "source": [
    "\n",
    "populations = [\n",
    "    { \"id\" : 0, \"name\" : \"Alan\" },\n",
    "    { \"id\" : 1, \"name\" : \"Albert\" },\n",
    "    { \"id\" : 2, \"name\" : \"Jhon\" },\n",
    "    { \"id\" : 3, \"name\" : \"Brice\" },\n",
    "    { \"id\" : 4, \"name\" : \"Alexendra\" },\n",
    "    { \"id\" : 5, \"name\" : \"Brad\" },\n",
    "    { \"id\" : 6, \"name\" : \"Carl\" },\n",
    "    { \"id\" : 7, \"name\" : \"Dallas\" },\n",
    "    { \"id\" : 8, \"name\" : \"Dennis\" },\n",
    "    { \"id\" : 9, \"name\" : \"Edgar\" },\n",
    "    { \"id\" : 10, \"name\" : \"Erika\" },\n",
    "    { \"id\" : 11, \"name\" : \"Isaac\" },\n",
    "    { \"id\" : 12, \"name\" : \"Ian\" }\n",
    "]\n",
    "\n",
    "relationships = [\n",
    "    (0,1), (0,2), (1,2), (1,4),(2,3), (2,5),\n",
    "    (3,4), (3,7), (4,5),(4,8), (4,9), (5,7),\n",
    "    (5,9), (6,7), (6,8), (7,1), (7,8), (8,9),\n",
    "    (10,1),(10,2),(10,3),(11,12),(11,2),(11,5)\n",
    "]"
   ]
  },
  {
   "cell_type": "markdown",
   "metadata": {},
   "source": [
    "Question n°1 : Modifiez la liste populations pour ajouter les relations (liste relationships) de chaque user de cette population, vous pouvez par exemple ajoutez une clé \"relation\" ainsi qu'une liste vide dans un premier temps. Puis placez les relations de chaque user dans la liste populations en utilisant relationships."
   ]
  },
  {
   "cell_type": "markdown",
   "metadata": {},
   "source": [
    "Réponse n°1 : "
   ]
  },
  {
   "cell_type": "code",
   "execution_count": 2,
   "metadata": {},
   "outputs": [],
   "source": [
    "# Ajouter la clé \"relations\" avec une liste vide pour chaque utilisateur.\n",
    "for user in populations:\n",
    "    user[\"relations\"] = []\n",
    "\n",
    "# Remplir les relations pour chaque utilisateur\n",
    "for relation in relationships:\n",
    "    user_id, friend_id = relation\n",
    "    populations[user_id][\"relations\"].append(friend_id)\n",
    "    populations[friend_id][\"relations\"].append(user_id)"
   ]
  },
  {
   "cell_type": "markdown",
   "metadata": {},
   "source": [
    "Question n°2 : Calculer la moyenne des relations."
   ]
  },
  {
   "cell_type": "markdown",
   "metadata": {},
   "source": [
    "Réponse n°2 : "
   ]
  },
  {
   "cell_type": "code",
   "execution_count": 3,
   "metadata": {},
   "outputs": [
    {
     "name": "stdout",
     "output_type": "stream",
     "text": [
      "Moyenne des relations : 3.6923076923076925\n"
     ]
    }
   ],
   "source": [
    "# Calcul de la moyenne des relaions. \n",
    "total_relations = sum(len(user[\"relations\"]) for user in populations)\n",
    "average_relations = total_relations / len(populations)\n",
    "print(\"Moyenne des relations :\", average_relations)"
   ]
  },
  {
   "cell_type": "markdown",
   "metadata": {},
   "source": [
    "Question n°3 : Créez une liste représentant les users (id) et le nombre de relation(s) qu'ils possèdent. Et retournez l'utilisateur qui possède le plus de relation(s)."
   ]
  },
  {
   "cell_type": "markdown",
   "metadata": {},
   "source": [
    "Réponse n°3 : "
   ]
  },
  {
   "cell_type": "code",
   "execution_count": 4,
   "metadata": {},
   "outputs": [
    {
     "name": "stdout",
     "output_type": "stream",
     "text": [
      "Utilisateur avec le plus de relations : Jhon\n"
     ]
    }
   ],
   "source": [
    "# Créer une liste d'utilisateurs et le nombre de relations.\n",
    "user_relations_count = [(user[\"id\"], len(user[\"relations\"])) for user in populations]\n",
    "\n",
    "# Trouver l'utilisateur avec le plus grand nombre de relations.\n",
    "user_with_most_relations = max(user_relations_count, key=lambda x: x[1])\n",
    "print(\"Utilisateur avec le plus de relations :\", populations[user_with_most_relations[0]][\"name\"])"
   ]
  },
  {
   "cell_type": "markdown",
   "metadata": {},
   "source": [
    "Question n°4 : Trouvez les amis des amis de chaque utilisateur."
   ]
  },
  {
   "cell_type": "markdown",
   "metadata": {},
   "source": [
    "Réponse n°4 : "
   ]
  },
  {
   "cell_type": "code",
   "execution_count": 5,
   "metadata": {},
   "outputs": [
    {
     "name": "stdout",
     "output_type": "stream",
     "text": [
      "Amis des amis de Alan : ['Brice', 'Alexendra', 'Brad', 'Dallas', 'Erika', 'Isaac']\n",
      "Amis des amis de Albert : ['Brice', 'Brad', 'Carl', 'Dennis', 'Edgar', 'Isaac']\n",
      "Amis des amis de Jhon : ['Alexendra', 'Dallas', 'Edgar', 'Ian']\n",
      "Amis des amis de Brice : ['Alan', 'Albert', 'Brad', 'Carl', 'Dennis', 'Edgar', 'Isaac']\n",
      "Amis des amis de Alexendra : ['Alan', 'Jhon', 'Carl', 'Dallas', 'Erika', 'Isaac']\n",
      "Amis des amis de Brad : ['Alan', 'Albert', 'Brice', 'Carl', 'Dennis', 'Erika', 'Ian']\n",
      "Amis des amis de Carl : ['Albert', 'Brice', 'Alexendra', 'Brad', 'Edgar']\n",
      "Amis des amis de Dallas : ['Alan', 'Jhon', 'Alexendra', 'Edgar', 'Erika', 'Isaac']\n",
      "Amis des amis de Dennis : ['Albert', 'Brice', 'Brad']\n",
      "Amis des amis de Edgar : ['Albert', 'Jhon', 'Brice', 'Carl', 'Dallas', 'Isaac']\n",
      "Amis des amis de Erika : ['Alan', 'Alexendra', 'Brad', 'Dallas', 'Isaac']\n",
      "Amis des amis de Isaac : ['Alan', 'Albert', 'Brice', 'Alexendra', 'Dallas', 'Edgar', 'Erika']\n",
      "Amis des amis de Ian : ['Jhon', 'Brad']\n"
     ]
    }
   ],
   "source": [
    "# Trouver les amis des amis de chaque utilisateur.\n",
    "friends_of_friends = {}\n",
    "for user in populations:\n",
    "    user_id = user[\"id\"]\n",
    "    user_friends = set(user[\"relations\"])\n",
    "    friends_of_friends[user_id] = set()\n",
    "\n",
    "    for friend_id in user_friends:\n",
    "        friends_of_friends[user_id].update(populations[friend_id][\"relations\"])\n",
    "\n",
    "# Exclure l'utilisateur et ses amis directs de la liste des amis des amis.\n",
    "    friends_of_friends[user_id] -= user_friends\n",
    "    friends_of_friends[user_id].discard(user_id)\n",
    "    \n",
    "# Afficher les amis des amis de chaque utilisateur.\n",
    "for user_id, friends in friends_of_friends.items():\n",
    "    user_name = populations[user_id][\"name\"]\n",
    "    friends_names = [populations[friend_id][\"name\"] for friend_id in friends]\n",
    "    print(f\"Amis des amis de {user_name} : {friends_names}\")"
   ]
  },
  {
   "cell_type": "markdown",
   "metadata": {},
   "source": [
    "Partie n°2 : Level"
   ]
  },
  {
   "cell_type": "markdown",
   "metadata": {},
   "source": [
    "Question : Soit les deux listes suivantes : students et levels ces deux listes sont de même longueur et correspondent respectivement aux noms des étudiants et à leur niveau d'étude, à l'aide de la fonction zip et d'une itération affichez le nom et le niveau de chaque étudiant."
   ]
  },
  {
   "cell_type": "code",
   "execution_count": 1,
   "metadata": {},
   "outputs": [],
   "source": [
    "students = [\n",
    "    \"Alan\",\n",
    "    \"Albert\",\n",
    "    \"Jhon\",\n",
    "    \"Brice\",\n",
    "    \"Alexendra\",\n",
    "    \"Brad\",\n",
    "    \"Carl\",\n",
    "    \"Dallas\",\n",
    "    \"Dennis\",\n",
    "    \"Edgar\",\n",
    "     \"Erika\",\n",
    "     \"Isaac\",\n",
    "    \"Ian\" \n",
    "]\n",
    "\n",
    "levels = [4,2,3,5,7,8,2,6,4,3,5, 7, 5]"
   ]
  },
  {
   "cell_type": "markdown",
   "metadata": {},
   "source": [
    "Réponse : "
   ]
  },
  {
   "cell_type": "code",
   "execution_count": 2,
   "metadata": {},
   "outputs": [
    {
     "name": "stdout",
     "output_type": "stream",
     "text": [
      "Étudiant : Alan, Niveau : 4\n",
      "Étudiant : Albert, Niveau : 2\n",
      "Étudiant : Jhon, Niveau : 3\n",
      "Étudiant : Brice, Niveau : 5\n",
      "Étudiant : Alexendra, Niveau : 7\n",
      "Étudiant : Brad, Niveau : 8\n",
      "Étudiant : Carl, Niveau : 2\n",
      "Étudiant : Dallas, Niveau : 6\n",
      "Étudiant : Dennis, Niveau : 4\n",
      "Étudiant : Edgar, Niveau : 3\n",
      "Étudiant : Erika, Niveau : 5\n",
      "Étudiant : Isaac, Niveau : 7\n",
      "Étudiant : Ian, Niveau : 5\n"
     ]
    }
   ],
   "source": [
    "# Utiliser la fonction zip pour combiner les deux listes.\n",
    "for student, level in zip(students, levels):\n",
    "    print(f\"Étudiant : {student}, Niveau : {level}\")"
   ]
  },
  {
   "cell_type": "markdown",
   "metadata": {},
   "source": [
    "Partie n°3 : Centre d'intérêts"
   ]
  },
  {
   "cell_type": "markdown",
   "metadata": {},
   "source": [
    "Données : "
   ]
  },
  {
   "cell_type": "code",
   "execution_count": 4,
   "metadata": {},
   "outputs": [],
   "source": [
    "\n",
    "populations = [\n",
    "    { \"id\" : 0, \"name\" : \"Alan\" },\n",
    "    { \"id\" : 1, \"name\" : \"Albert\" },\n",
    "    { \"id\" : 2, \"name\" : \"Jhon\" },\n",
    "    { \"id\" : 3, \"name\" : \"Brice\" },\n",
    "    { \"id\" : 4, \"name\" : \"Alexendra\" },\n",
    "    { \"id\" : 5, \"name\" : \"Brad\" },\n",
    "    { \"id\" : 6, \"name\" : \"Carl\" },\n",
    "    { \"id\" : 7, \"name\" : \"Dallas\" },\n",
    "    { \"id\" : 8, \"name\" : \"Dennis\" },\n",
    "    { \"id\" : 9, \"name\" : \"Edgar\" },\n",
    "    { \"id\" : 10, \"name\" : \"Erika\" },\n",
    "    { \"id\" : 11, \"name\" : \"Isaac\" },\n",
    "    { \"id\" : 13, \"name\" : \"Brice\" },\n",
    "    { \"id\" : 14, \"name\" : \"Alice\" },\n",
    "    { \"id\" : 15, \"name\" : \"Sophia\" },\n",
    "    { \"id\" : 16, \"name\" : \"Rasmus\" },\n",
    "    { \"id\" : 18, \"name\" : \"Taylor\" },\n",
    "    { \"id\" : 19, \"name\" : \"Olivia\" },\n",
    "    { \"id\" : 20, \"name\" : \"Jessica\" },\n",
    "    { \"id\" : 21, \"name\" : \"Anna\" },\n",
    "    { \"id\" : 22, \"name\" : \"Samantha\" },\n",
    "    { \"id\" : 23, \"name\" : \"Grace\" },\n",
    "    { \"id\" : 24, \"name\" : \"Anna\" },\n",
    "    { \"id\" : 25, \"name\" : \"Alexis\" },\n",
    "    { \"id\" : 26, \"name\" : \"Madison\" },\n",
    "    { \"id\" : 27, \"name\" : \"Nicole\" },\n",
    "    { \"id\" : 28, \"name\" : \"Amanda\" },\n",
    "    { \"id\" : 29, \"name\" : \"Haley\" }  \n",
    "]\n",
    "\n",
    "centers = [\n",
    "    (0, 'PHP'), (0, 'MySQL'), (0, 'Angular'), (1, 'MySQL'), (2, 'Python'), (3, 'PHP'), (4, 'PHP'), \n",
    "    (5, 'Angular'), (6, 'Vuejs'), (7, 'Angular'), (8, 'Big data'), (9, 'PHP'), \n",
    "    (10, 'Angular'), (10, 'NoSQL'), (11, 'NoSQL'), (12, 'Angular'), (13, 'Angular'), (14, 'Angular'), \n",
    "    (15, 'Angular'), (16, 'Angular'), (17, 'PHP'), (18, 'PHP'), (19, 'PHP'), (19,'Angular'), (19, 'Python'),\n",
    "    (20, 'Python'), (21, 'Python'), (22, 'Python'), (23, 'Python'), (24, 'PHP'), \n",
    "    (25, 'NoSQL'), (26, 'NoSQL'), (27, 'Big data'), (28, 'NoSQL'), (29, 'Angular'), (29, 'PHP'), (29,'Big data')\n",
    "]"
   ]
  },
  {
   "cell_type": "markdown",
   "metadata": {},
   "source": [
    "Question : Ecrire une fonction qui retourne tous les utilisateurs qui partagent le même centre d'intérêt."
   ]
  },
  {
   "cell_type": "markdown",
   "metadata": {},
   "source": [
    "Réponse : "
   ]
  },
  {
   "cell_type": "code",
   "execution_count": 5,
   "metadata": {},
   "outputs": [
    {
     "name": "stdout",
     "output_type": "stream",
     "text": [
      "Les utilisateurs qui ont comme centre d'intérêt NoSQL sont : Erika, Isaac, Alexis, Madison, Amanda\n",
      "Les utilisateurs qui ont comme centre d'intérêt Angular sont : Alan, Brad, Dallas, Erika, Brice, Alice, Sophia, Rasmus, Olivia, Haley\n",
      "Les utilisateurs qui ont comme centre d'intérêt PHP sont : Alan, Brice, Alexendra, Edgar, Taylor, Olivia, Anna, Haley\n",
      "Les utilisateurs qui ont comme centre d'intérêt Big data sont : Dennis, Nicole, Haley\n",
      "Les utilisateurs qui ont comme centre d'intérêt Vuejs sont : Carl\n",
      "Les utilisateurs qui ont comme centre d'intérêt Python sont : Jhon, Olivia, Jessica, Anna, Samantha, Grace\n",
      "Les utilisateurs qui ont comme centre d'intérêt MySQL sont : Alan, Albert\n"
     ]
    }
   ],
   "source": [
    "def get_users_by_interest(populations, centers, interest):\n",
    "    matching_users = []\n",
    "\n",
    "    # Parcourir la liste des centres d'intérêt\n",
    "    for center in centers:\n",
    "        user_id, center_interest = center\n",
    "\n",
    "        # Vérifier si le centre d'intérêt correspond à celui recherché\n",
    "        if center_interest == interest:\n",
    "            # Trouver le nom de l'utilisateur correspondant à l'ID\n",
    "            matching_user = next((user['name'] for user in populations if user['id'] == user_id), None)\n",
    "\n",
    "            # Ajouter l'utilisateur à la liste des correspondances\n",
    "            if matching_user is not None:\n",
    "                matching_users.append(matching_user)\n",
    "\n",
    "    return matching_users\n",
    "\n",
    "# Afficher les utilisateurs pour chaque centre d'intérêt\n",
    "all_interests = set(center[1] for center in centers)\n",
    "for interest_to_search in all_interests:\n",
    "    result = get_users_by_interest(populations, centers, interest_to_search)\n",
    "    print(f\"Les utilisateurs qui ont comme centre d'intérêt {interest_to_search} sont : {', '.join(result)}\")"
   ]
  },
  {
   "cell_type": "markdown",
   "metadata": {},
   "source": [
    "Partie n°4 : Modélisation"
   ]
  },
  {
   "cell_type": "markdown",
   "metadata": {},
   "source": [
    "Question: Pour vos résultats de la partie 1 et 2.\n",
    "\n",
    "Creez un model ( une classe ) pour enregistrer les données nettoyées, que vous allez enregistrer dans une table ou un ficher.\n",
    "\n",
    "Visualisez les données en console, par exemple, pour vérifier qu'elles sont correctectement importées"
   ]
  },
  {
   "cell_type": "markdown",
   "metadata": {},
   "source": [
    "Réponse : "
   ]
  },
  {
   "cell_type": "code",
   "execution_count": 6,
   "metadata": {},
   "outputs": [
    {
     "name": "stdout",
     "output_type": "stream",
     "text": [
      "ID: 0, Nom: Alan, Relations: [], Niveau: 4\n",
      "ID: 1, Nom: Albert, Relations: [], Niveau: 2\n",
      "ID: 2, Nom: Jhon, Relations: [], Niveau: 3\n",
      "ID: 3, Nom: Brice, Relations: [], Niveau: 5\n",
      "ID: 4, Nom: Alexendra, Relations: [], Niveau: 7\n",
      "ID: 5, Nom: Brad, Relations: [], Niveau: 8\n",
      "ID: 6, Nom: Carl, Relations: [], Niveau: 2\n",
      "ID: 7, Nom: Dallas, Relations: [], Niveau: 6\n",
      "ID: 8, Nom: Dennis, Relations: [], Niveau: 4\n",
      "ID: 9, Nom: Edgar, Relations: [], Niveau: 3\n",
      "ID: 10, Nom: Erika, Relations: [], Niveau: 5\n",
      "ID: 11, Nom: Isaac, Relations: [], Niveau: 7\n",
      "ID: 12, Nom: Ian, Relations: [], Niveau: 5\n"
     ]
    }
   ],
   "source": [
    "class Utilisateur:\n",
    "    def __init__(self, user_id, name, relations, level):\n",
    "        self.user_id = user_id\n",
    "        self.name = name\n",
    "        self.relations = relations\n",
    "        self.level = level\n",
    "\n",
    "# Créer une liste pour stocker les instances d'utilisateurs\n",
    "utilisateurs_liste = []\n",
    "\n",
    "# Ajouter des instances d'utilisateurs à la liste\n",
    "for i, student in enumerate(students):\n",
    "    user_instance = Utilisateur(i, student, [], levels[i])\n",
    "    utilisateurs_liste.append(user_instance)\n",
    "\n",
    "# Afficher les informations de chaque utilisateur\n",
    "for user_instance in utilisateurs_liste:\n",
    "    print(f\"ID: {user_instance.user_id}, Nom: {user_instance.name}, Relations: {user_instance.relations}, Niveau: {user_instance.level}\")"
   ]
  },
  {
   "cell_type": "markdown",
   "metadata": {},
   "source": [
    "Partie n°5 : Exercices"
   ]
  },
  {
   "cell_type": "markdown",
   "metadata": {},
   "source": [
    "Exercice n°1 : Exercice Parse : Créez une classe Parse, soit la chaîne de caractères suivantes, utilisez les fonctions strip() et split() pour retournez une structure comportant uniquement des numériques, vous testerez votre méthode sur la chaîne suivante :\n",
    "\n",
    "phrase = '8790: bonjour le monde:8987:7777:Hello World: 9007'\n",
    "\n",
    "p = Parser(':', phrase) print( p ) 8790 8987 7777 9007"
   ]
  },
  {
   "cell_type": "markdown",
   "metadata": {},
   "source": [
    "Réponse : "
   ]
  },
  {
   "cell_type": "code",
   "execution_count": 7,
   "metadata": {},
   "outputs": [
    {
     "name": "stdout",
     "output_type": "stream",
     "text": [
      "8790 8987 7777 9007\n"
     ]
    }
   ],
   "source": [
    "class Parser:\n",
    "    def __init__(self, delimiter, input_string):\n",
    "        self.delimiter = delimiter\n",
    "        self.input_string = input_string\n",
    "\n",
    "    def parse_numbers(self):\n",
    "        # Utilisez strip() pour supprimer les espaces avant et après la chaîne\n",
    "        # Utilisez split() pour diviser la chaîne en sous-chaînes en fonction du délimiteur\n",
    "        # Utilisez isnumeric() pour vérifier si chaque sous-chaîne est un nombre\n",
    "        # Si c'est le cas, convertissez la sous-chaîne en entier et ajoutez-la à la liste result\n",
    "        result = [int(token.strip()) for token in self.input_string.split(self.delimiter) if token.strip().isnumeric()]\n",
    "        return result\n",
    "\n",
    "    def __str__(self):\n",
    "        # Utilisez la méthode parse_numbers() pour obtenir la liste des nombres\n",
    "        # Utilisez join() pour convertir la liste en une seule chaîne de caractères\n",
    "        return ' '.join(map(str, self.parse_numbers()))\n",
    "\n",
    "# Testez la classe avec la chaîne fournie\n",
    "phrase = '8790: bonjour le monde:8987:7777:Hello World:    9007'\n",
    "p = Parser(':', phrase)\n",
    "print(p)"
   ]
  },
  {
   "cell_type": "markdown",
   "metadata": {},
   "source": [
    "Exercice n°2 : Exercice HasCap : Ecrire une classe HasCap qui lorsqu'on renvoie tous les mots/particules d'un texte t commençant par une majuscule dans un dictionnaire en comptant le nombre d'occurence de ces mots/particules.\n",
    "\n",
    "phrase = \"Le langage Python est placé sous une licence libre proche de la licence BSD6 et fonctionne sur la plupart des plates-formes informatiques, des smartphones aux ordinateurs centraux7, de Windows à Unix avec notamment GNU/Linux en passant par macOS, ou encore Android, iOS, et peut aussi être traduit en Java ou .NET. Il est conçu pour optimiser la productivité des programmeurs en offrant des outils de haut niveau et une syntaxe simple à utiliser.\"\n",
    "\n",
    "hasCap = HasCap(phrase)\n",
    "\n",
    "print(hasCap.parse())\n",
    "{'Le': 1, 'Python': 1, 'BSD6': 1, 'Windows': 1, 'Unix': 1, 'GNU/Linux': 1, 'Android,': 1, 'Java': 1, '.NET.': 1, 'Il': 1}\n"
   ]
  },
  {
   "cell_type": "markdown",
   "metadata": {},
   "source": [
    "Réponse : "
   ]
  },
  {
   "cell_type": "code",
   "execution_count": 8,
   "metadata": {},
   "outputs": [
    {
     "name": "stdout",
     "output_type": "stream",
     "text": [
      "{'Le': 1, 'Python': 1, 'BSD6': 1, 'Windows': 1, 'Unix': 1, 'Android': 1, 'Java': 1, '.NET': 1, 'Il': 1}\n"
     ]
    }
   ],
   "source": [
    "class HasCap:\n",
    "    def __init__(self, input_text):\n",
    "        self.input_text = input_text\n",
    "\n",
    "    def parse(self):\n",
    "        # Initialisez un dictionnaire vide pour stocker les mots/particules commençant par une majuscule\n",
    "        cap_words_count = {}\n",
    "\n",
    "        # Divisez le texte en mots en utilisant split()\n",
    "        words = self.input_text.split()\n",
    "\n",
    "        # Parcourez chaque mot dans la liste de mots\n",
    "        for word in words:\n",
    "            # Supprimez la ponctuation attachée au mot (si elle existe) à la fin du mot\n",
    "            clean_word = word.rstrip(\".,;:'\")\n",
    "\n",
    "            # Vérifiez si le mot commence par une majuscule\n",
    "            if clean_word.istitle() or clean_word.isupper():\n",
    "                # Utilisez get() pour récupérer la valeur actuelle du mot dans le dictionnaire\n",
    "                # Si le mot n'est pas encore dans le dictionnaire, retournez 0 comme valeur par défaut\n",
    "                cap_words_count[clean_word] = cap_words_count.get(clean_word, 0) + 1\n",
    "\n",
    "        return cap_words_count\n",
    "\n",
    "# Testez la classe avec la phrase fournie\n",
    "phrase = \"Le langage Python est placé sous une licence libre proche de la licence BSD6 et fonctionne sur la plupart des plates-formes informatiques, des smartphones aux ordinateurs centraux7, de Windows à Unix avec notamment GNU/Linux en passant par macOS, ou encore Android, iOS, et peut aussi être traduit en Java ou .NET. Il est conçu pour optimiser la productivité des programmeurs en offrant des outils de haut niveau et une syntaxe simple à utiliser.\"\n",
    "\n",
    "hasCap = HasCap(phrase)\n",
    "result = hasCap.parse()\n",
    "\n",
    "print(result)"
   ]
  },
  {
   "cell_type": "code",
   "execution_count": null,
   "metadata": {},
   "outputs": [],
   "source": []
  }
 ],
 "metadata": {
  "kernelspec": {
   "display_name": "Python 3",
   "language": "python",
   "name": "python3"
  },
  "language_info": {
   "codemirror_mode": {
    "name": "ipython",
    "version": 3
   },
   "file_extension": ".py",
   "mimetype": "text/x-python",
   "name": "python",
   "nbconvert_exporter": "python",
   "pygments_lexer": "ipython3",
   "version": "3.7.6"
  }
 },
 "nbformat": 4,
 "nbformat_minor": 4
}
